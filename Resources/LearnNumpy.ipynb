{
 "cells": [
  {
   "cell_type": "code",
   "execution_count": 1,
   "id": "3f227d39-6501-4e8d-b255-679e16dcb70e",
   "metadata": {},
   "outputs": [],
   "source": [
    "import numpy as np"
   ]
  },
  {
   "cell_type": "markdown",
   "id": "34fc9161-fcf5-4881-9618-9b3e6a7093a6",
   "metadata": {},
   "source": [
    "## Create and Read"
   ]
  },
  {
   "cell_type": "markdown",
   "id": "9e0f0586-19aa-4a61-b290-95eeb08589d9",
   "metadata": {},
   "source": [
    "#### 1D Array"
   ]
  },
  {
   "cell_type": "code",
   "execution_count": 2,
   "id": "a534fa9c-7280-46c6-9cdd-e519d2b7c4d9",
   "metadata": {},
   "outputs": [
    {
     "data": {
      "text/plain": [
       "array([1, 2, 3, 4])"
      ]
     },
     "execution_count": 2,
     "metadata": {},
     "output_type": "execute_result"
    }
   ],
   "source": [
    "arr1=np.array([1,2,3,4])\n",
    "arr1"
   ]
  },
  {
   "cell_type": "markdown",
   "id": "ececd4f8-9f48-47f4-92f9-acf202059a61",
   "metadata": {},
   "source": [
    "#### 2D Array"
   ]
  },
  {
   "cell_type": "code",
   "execution_count": 4,
   "id": "28f4bf71-3056-4cc4-bf84-7b195e7e2999",
   "metadata": {},
   "outputs": [
    {
     "data": {
      "text/plain": [
       "array([[1, 4, 6],\n",
       "       [7, 8, 9]])"
      ]
     },
     "execution_count": 4,
     "metadata": {},
     "output_type": "execute_result"
    }
   ],
   "source": [
    "arr2=np.array([[1,4,6],[7,8,9]])\n",
    "arr2"
   ]
  },
  {
   "cell_type": "code",
   "execution_count": 5,
   "id": "1b6c98e3-0379-4249-8311-5e302d616c88",
   "metadata": {},
   "outputs": [
    {
     "data": {
      "text/plain": [
       "(2, 3)"
      ]
     },
     "execution_count": 5,
     "metadata": {},
     "output_type": "execute_result"
    }
   ],
   "source": [
    "arr2.shape"
   ]
  },
  {
   "cell_type": "markdown",
   "id": "6764139f-a2e2-467e-beed-cc3f43cbfcfe",
   "metadata": {},
   "source": [
    "#### Update & Delete"
   ]
  },
  {
   "cell_type": "code",
   "execution_count": 6,
   "id": "3b1b68ec-664d-44b8-9b3a-747219d34aca",
   "metadata": {},
   "outputs": [],
   "source": [
    "a1=np.random.rand(2,3,2)\n",
    "a2=np.random.rand(2,3,2)"
   ]
  },
  {
   "cell_type": "code",
   "execution_count": 7,
   "id": "ee93b985-2a7b-4c78-87ff-88eea61ab49f",
   "metadata": {},
   "outputs": [
    {
     "data": {
      "text/plain": [
       "array([[[0.52322117, 0.93960154],\n",
       "        [0.87891138, 0.04476925],\n",
       "        [0.58226294, 0.26046165]],\n",
       "\n",
       "       [[0.72518408, 0.56571115],\n",
       "        [0.51795553, 0.49629894],\n",
       "        [0.67346483, 0.42595256]]])"
      ]
     },
     "execution_count": 7,
     "metadata": {},
     "output_type": "execute_result"
    }
   ],
   "source": [
    "a1"
   ]
  },
  {
   "cell_type": "code",
   "execution_count": 8,
   "id": "c5263559-6dce-4e9f-a9c6-633b2735c418",
   "metadata": {},
   "outputs": [
    {
     "data": {
      "text/plain": [
       "array([[[1.34854272, 1.41819764],\n",
       "        [1.17683867, 0.73585242],\n",
       "        [1.43786147, 1.18933925]],\n",
       "\n",
       "       [[0.87068706, 0.58920701],\n",
       "        [0.83665299, 1.33939439],\n",
       "        [1.50180784, 0.61457544]]])"
      ]
     },
     "execution_count": 8,
     "metadata": {},
     "output_type": "execute_result"
    }
   ],
   "source": [
    "np.add(a1,a2)"
   ]
  },
  {
   "cell_type": "code",
   "execution_count": 9,
   "id": "9315213e-580b-48f6-aec6-3959be0c32bf",
   "metadata": {},
   "outputs": [
    {
     "data": {
      "text/plain": [
       "np.float64(0.044769253280590116)"
      ]
     },
     "execution_count": 9,
     "metadata": {},
     "output_type": "execute_result"
    }
   ],
   "source": [
    "mins=np.min(a1)\n",
    "mins"
   ]
  },
  {
   "cell_type": "code",
   "execution_count": null,
   "id": "a8fffef3-f215-4b44-961f-7cb01fb5e37c",
   "metadata": {},
   "outputs": [],
   "source": []
  }
 ],
 "metadata": {
  "kernelspec": {
   "display_name": "Python 3 (ipykernel)",
   "language": "python",
   "name": "python3"
  },
  "language_info": {
   "codemirror_mode": {
    "name": "ipython",
    "version": 3
   },
   "file_extension": ".py",
   "mimetype": "text/x-python",
   "name": "python",
   "nbconvert_exporter": "python",
   "pygments_lexer": "ipython3",
   "version": "3.12.9"
  }
 },
 "nbformat": 4,
 "nbformat_minor": 5
}
